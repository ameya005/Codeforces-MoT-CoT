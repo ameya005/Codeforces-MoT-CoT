{
 "cells": [
  {
   "cell_type": "code",
   "execution_count": 1,
   "id": "57c97f9c-3cee-4575-a371-06fb600e45fb",
   "metadata": {},
   "outputs": [],
   "source": [
    "import argparse, os, time\n",
    "from datasets import load_dataset\n",
    "from transformers import (\n",
    "    AutoTokenizer, AutoModelForCausalLM, BitsAndBytesConfig, TrainerCallback\n",
    ")\n",
    "import seaborn as s"
   ]
  },
  {
   "cell_type": "code",
   "execution_count": null,
   "id": "82e3fc3a-d80e-4b95-ad08-63856d1f936c",
   "metadata": {},
   "outputs": [],
   "source": [
    "ds = load_dataset(\"open-r1/Mixture-of-Thoughts\", \"code\", split=\"train\")\n",
    "# Leave a small margin for special tokens added by the chat template\n",
    "MAX_CTX = 4096\n",
    "ds_filt = ds.filter(lambda r: r.get(\"num_tokens\", 0) <= MAX_CTX+128)\n",
    "print(len(ds), \"→\", len(ds_filt))"
   ]
  },
  {
   "cell_type": "code",
   "execution_count": null,
   "id": "ba36e0d0-a373-4ec7-bb0e-119684bc3524",
   "metadata": {},
   "outputs": [],
   "source": [
    "ds_iter = iter(ds)\n",
    "batch = next(ds_iter)"
   ]
  },
  {
   "cell_type": "code",
   "execution_count": null,
   "id": "3f2e4386-9325-4448-9947-e1abd84f7b41",
   "metadata": {},
   "outputs": [],
   "source": [
    "for i in range(10):\n",
    "    print(next(ds_iter))\n",
    "    print(\"---\"*30)"
   ]
  },
  {
   "cell_type": "code",
   "execution_count": null,
   "id": "33161e3c-987d-4077-96cf-976884bfe667",
   "metadata": {},
   "outputs": [],
   "source": [
    "batch"
   ]
  },
  {
   "cell_type": "code",
   "execution_count": null,
   "id": "bf53f742-5428-4818-aba8-f6e67e7a31f6",
   "metadata": {},
   "outputs": [],
   "source": [
    "batch[\"messages\"]"
   ]
  },
  {
   "cell_type": "code",
   "execution_count": 4,
   "id": "45dffacd-e475-4b3a-99ca-137e7c00bd19",
   "metadata": {},
   "outputs": [],
   "source": [
    "from datasets import load_dataset, Dataset\n",
    "\n",
    "ds = load_dataset(\"json\", data_files={\"train\":\"data/mot_r1_messages/data.jsonl\"}, cache_dir=\"data/hf_cache_mot_r1_v1\")[\"train\"]\n",
    "# print(type(ds))                   # should be datasets.Dataset\n",
    "# row0 = next(iter(ds))\n",
    "# print(type(row0), row0.keys())    # dict_keys([...]) expected\n",
    "# assert isinstance(ds, Dataset)"
   ]
  },
  {
   "cell_type": "code",
   "execution_count": 5,
   "id": "7b8d7036-ad63-4f8c-b316-897c3b5c0b55",
   "metadata": {},
   "outputs": [
    {
     "data": {
      "text/plain": [
       "datasets.arrow_dataset.Dataset"
      ]
     },
     "execution_count": 5,
     "metadata": {},
     "output_type": "execute_result"
    }
   ],
   "source": [
    "type(ds)"
   ]
  },
  {
   "cell_type": "code",
   "execution_count": 6,
   "id": "247ec3f6-5119-4ae6-adf0-e1f9e9efba67",
   "metadata": {},
   "outputs": [],
   "source": [
    "row0 = next(iter(ds))"
   ]
  },
  {
   "cell_type": "code",
   "execution_count": 7,
   "id": "e17771bf-17cb-420f-af6a-57f19e1bc8d2",
   "metadata": {},
   "outputs": [
    {
     "data": {
      "text/plain": [
       "dict_keys(['messages', 'language', 'num_tokens_serialized', 'source_idx'])"
      ]
     },
     "execution_count": 7,
     "metadata": {},
     "output_type": "execute_result"
    }
   ],
   "source": [
    "row0.keys()"
   ]
  },
  {
   "cell_type": "code",
   "execution_count": 2,
   "id": "c7483f73-99f7-478f-b6b7-36b55beb7997",
   "metadata": {},
   "outputs": [],
   "source": [
    " ds = load_dataset(\"open-r1/codeforces\", name=\"verifiable\", split=\"test\")"
   ]
  },
  {
   "cell_type": "code",
   "execution_count": 4,
   "id": "7a5d6519-2775-4c8c-9995-d3a75faba68c",
   "metadata": {},
   "outputs": [],
   "source": [
    "ds_filt = ds.select(range(0, 200))"
   ]
  },
  {
   "cell_type": "code",
   "execution_count": 6,
   "id": "8d5b81f3-4013-4c84-b4f4-b28fbf500cc3",
   "metadata": {},
   "outputs": [
    {
     "data": {
      "text/plain": [
       "Dataset({\n",
       "    features: ['id', 'aliases', 'contest_id', 'contest_name', 'contest_type', 'contest_start', 'contest_start_year', 'index', 'time_limit', 'memory_limit', 'title', 'description', 'input_format', 'output_format', 'interaction_format', 'note', 'examples', 'editorial', 'rating', 'tags', 'testset_size', 'official_tests', 'official_tests_complete', 'input_mode', 'generated_checker', 'executable', 'generated_tests'],\n",
       "    num_rows: 200\n",
       "})"
      ]
     },
     "execution_count": 6,
     "metadata": {},
     "output_type": "execute_result"
    }
   ],
   "source": [
    "ds_filt"
   ]
  },
  {
   "cell_type": "code",
   "execution_count": null,
   "id": "50745916-0ef4-4d31-a3ed-3e1de7595383",
   "metadata": {},
   "outputs": [],
   "source": []
  }
 ],
 "metadata": {
  "kernelspec": {
   "display_name": "Python 3 (ipykernel)",
   "language": "python",
   "name": "python3"
  },
  "language_info": {
   "codemirror_mode": {
    "name": "ipython",
    "version": 3
   },
   "file_extension": ".py",
   "mimetype": "text/x-python",
   "name": "python",
   "nbconvert_exporter": "python",
   "pygments_lexer": "ipython3",
   "version": "3.10.12"
  }
 },
 "nbformat": 4,
 "nbformat_minor": 5
}
